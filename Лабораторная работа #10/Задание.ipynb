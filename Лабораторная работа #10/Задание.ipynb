{
 "cells": [
  {
   "cell_type": "markdown",
   "id": "9da8242a-bd6f-4a5c-9082-f304a82b3b7f",
   "metadata": {},
   "source": [
    "# Задание №1"
   ]
  },
  {
   "cell_type": "code",
   "execution_count": 53,
   "id": "b75eac23-d526-414d-a12c-f2c645b9789a",
   "metadata": {},
   "outputs": [],
   "source": [
    "import pandas as pd"
   ]
  },
  {
   "cell_type": "code",
   "execution_count": 54,
   "id": "c92f0502-29cb-4028-9083-0211720e75b4",
   "metadata": {},
   "outputs": [],
   "source": [
    "ratings = pd.read_csv(\"ml-latest//ratings.csv\")"
   ]
  },
  {
   "cell_type": "code",
   "execution_count": 52,
   "id": "3f64a7b4-384c-49fb-a065-4bdd7080c833",
   "metadata": {},
   "outputs": [
    {
     "data": {
      "text/plain": [
       "318     39553\n",
       "296     32169\n",
       "356     25918\n",
       "260     25804\n",
       "2571    25482\n",
       "527     24853\n",
       "593     24801\n",
       "858     24418\n",
       "50      21585\n",
       "2959    21486\n",
       "Name: movieId, dtype: int64"
      ]
     },
     "execution_count": 52,
     "metadata": {},
     "output_type": "execute_result"
    }
   ],
   "source": [
    "ratings.query('rating == 5.0')['movieId'].value_counts().head(10)"
   ]
  },
  {
   "cell_type": "markdown",
   "id": "aae5ad2f-5667-4668-ab78-3f36da3655bf",
   "metadata": {},
   "source": [
    "# Задание №2"
   ]
  },
  {
   "cell_type": "code",
   "execution_count": 21,
   "id": "030c9cd7-74a4-48ac-8248-428fd0e1ef4e",
   "metadata": {},
   "outputs": [],
   "source": [
    "powers = pd.read_csv(\"power.csv\")"
   ]
  },
  {
   "cell_type": "code",
   "execution_count": 44,
   "id": "683ddbdb-e299-4fd8-8435-0860ddfa6f78",
   "metadata": {},
   "outputs": [
    {
     "data": {
      "text/plain": [
       "240580.0"
      ]
     },
     "execution_count": 44,
     "metadata": {},
     "output_type": "execute_result"
    }
   ],
   "source": [
    "powers[((powers['country'] == 'Latvia') | (powers['country'] == 'Lithuania') | (powers['country'] == 'Estonia')) & ((powers['category'] == 4) | (powers['category'] == 12) | (powers['category'] == 21)) & (powers['year'] >= 2005) & (powers['year'] <= 2010)].query('quantity > 0').sum()['quantity']"
   ]
  },
  {
   "cell_type": "markdown",
   "id": "cfddf7e6-20cc-4786-a84d-978852dfedee",
   "metadata": {},
   "source": [
    "# Задание №3"
   ]
  },
  {
   "cell_type": "code",
   "execution_count": 48,
   "id": "42124655-8f1f-4c81-b34c-c79617e8a1b5",
   "metadata": {},
   "outputs": [],
   "source": [
    "page_url = \"https://www.finanz.ru/valyuty/v-realnom-vremeni\""
   ]
  },
  {
   "cell_type": "code",
   "execution_count": 49,
   "id": "32bde006-6abe-4cd5-b8ed-20ba93f1694e",
   "metadata": {},
   "outputs": [],
   "source": [
    "df = pd.read_html(page_url, attrs = {'class': 'quote_list'}, encoding='utf-8')"
   ]
  },
  {
   "cell_type": "code",
   "execution_count": 51,
   "id": "6538fb61-b6d7-4ca8-bcfd-86cd3c46f227",
   "metadata": {},
   "outputs": [
    {
     "data": {
      "text/plain": [
       "[    Unnamed: 0              Рубль  Предложение  Спрос  Предыдущее закрытие  \\\n",
       " 0          NaN            GBP/RUB      1052806      -              1051581   \n",
       " 1          NaN            EUR/RUB       880150      -               867200   \n",
       " 2          NaN            USD/RUB       776950      -               761335   \n",
       " 3          NaN            JPY/RUB        06836      -                06825   \n",
       " 4          NaN            CNY/RUB       122567      -               122402   \n",
       " 5          NaN            CHF/RUB       852667      -               851144   \n",
       " 6          NaN               Евро  Предложение  Спрос  Предыдущее закрытие   \n",
       " 7          NaN            EUR/USD        11347      -                11313   \n",
       " 8          NaN            EUR/GBP        08368      -                08319   \n",
       " 9          NaN            EUR/JPY      1289850      -              1289650   \n",
       " 10         NaN            EUR/CHF        10341      -                10377   \n",
       " 11         NaN         Доллар США  Предложение  Спрос  Предыдущее закрытие   \n",
       " 12         NaN            USD/EUR        08813      -                08814   \n",
       " 13         NaN            USD/GBP        07380      -                07378   \n",
       " 14         NaN            USD/JPY      1136600      -              1140950   \n",
       " 15         NaN            USD/CHF        09112      -                09118   \n",
       " 16         NaN      Японская иена  Предложение  Спрос  Предыдущее закрытие   \n",
       " 17         NaN    JPY/EUR (100:1)        07800      -                07800   \n",
       " 18         NaN            JPY/GBP        00065      -                00065   \n",
       " 19         NaN            JPY/USD        00088      -                00088   \n",
       " 20         NaN    JPY/CHF (100:1)        08000      -                08000   \n",
       " 21         NaN    Фунт стерлингов  Предложение  Спрос  Предыдущее закрытие   \n",
       " 22         NaN            GBP/USD        13551      -                13599   \n",
       " 23         NaN            GBP/JPY      1540150      -              1540719   \n",
       " 24         NaN            GBP/EUR        11952      -                12021   \n",
       " 25         NaN            GBP/CHF        12353      -                12477   \n",
       " 26         NaN  Швейцарский франк  Предложение  Спрос  Предыдущее закрытие   \n",
       " 27         NaN            GBP/CHF        12353      -                12477   \n",
       " 28         NaN            EUR/CHF        10341      -                10377   \n",
       " 29         NaN    JPY/CHF (100:1)        08000      -                08000   \n",
       " 30         NaN            USD/CHF        09112      -                09118   \n",
       " 31         NaN  Украинская гривна  Предложение  Спрос  Предыдущее закрытие   \n",
       " 32         NaN            EUR/UAH       320554      -               320399   \n",
       " 33         NaN            USD/UAH       282500      -               282402   \n",
       " 34         NaN            CHF/UAH       310032      -               309787   \n",
       " 35         NaN            GBP/UAH       382803      -               382740   \n",
       " \n",
       "          %  Абсолютное значение     Время  \n",
       " 0    0,12%                01225  06:59:00  \n",
       " 1    1,49%                12950  01:42:00  \n",
       " 2    2,05%                15615  01:00:00  \n",
       " 3    0,15%                00011  06:59:00  \n",
       " 4    0,14%                00166  06:59:00  \n",
       " 5    0,18%                01523  06:59:00  \n",
       " 6        %  Абсолютное значение     Время  \n",
       " 7    0,31%                00035  01:03:00  \n",
       " 8    0,60%                00050  01:02:00  \n",
       " 9    0,02%                00200  03:08:00  \n",
       " 10  -0,34%               -00036  01:05:00  \n",
       " 11       %  Абсолютное значение     Время  \n",
       " 12  -0,01%               -00001  06:59:00  \n",
       " 13   0,02%                00001  06:59:00  \n",
       " 14  -0,38%               -04350  01:14:00  \n",
       " 15  -0,06%               -00006  06:47:00  \n",
       " 16       %  Абсолютное значение     Время  \n",
       " 17   0,01%                00000  06:59:00  \n",
       " 18   0,04%                00000  06:59:00  \n",
       " 19   0,02%                00000  06:59:00  \n",
       " 20  -0,31%                00000  01:00:00  \n",
       " 21       %  Абсолютное значение     Время  \n",
       " 22  -0,36%               -00049  01:02:00  \n",
       " 23  -0,04%               -00569  06:59:00  \n",
       " 24  -0,58%               -00070  01:00:00  \n",
       " 25  -0,99%               -00124  01:00:00  \n",
       " 26       %  Абсолютное значение     Время  \n",
       " 27  -0,99%               -00124  01:00:00  \n",
       " 28  -0,34%               -00036  01:05:00  \n",
       " 29  -0,31%                00000  01:00:00  \n",
       " 30  -0,06%               -00006  06:47:00  \n",
       " 31       %  Абсолютное значение     Время  \n",
       " 32   0,05%                00154  06:59:00  \n",
       " 33   0,03%                00098  06:59:00  \n",
       " 34   0,08%                00245  06:59:00  \n",
       " 35   0,02%                00063  06:59:00  ]"
      ]
     },
     "execution_count": 51,
     "metadata": {},
     "output_type": "execute_result"
    }
   ],
   "source": [
    "df"
   ]
  },
  {
   "cell_type": "code",
   "execution_count": null,
   "id": "52387ecc-15fe-42d2-8dff-cf7e7c33f2c7",
   "metadata": {},
   "outputs": [],
   "source": []
  }
 ],
 "metadata": {
  "kernelspec": {
   "display_name": "Python 3 (ipykernel)",
   "language": "python",
   "name": "python3"
  },
  "language_info": {
   "codemirror_mode": {
    "name": "ipython",
    "version": 3
   },
   "file_extension": ".py",
   "mimetype": "text/x-python",
   "name": "python",
   "nbconvert_exporter": "python",
   "pygments_lexer": "ipython3",
   "version": "3.10.0"
  }
 },
 "nbformat": 4,
 "nbformat_minor": 5
}
